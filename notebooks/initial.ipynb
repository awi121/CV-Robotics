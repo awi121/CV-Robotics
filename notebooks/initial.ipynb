{
 "cells": [
  {
   "cell_type": "code",
   "execution_count": 5,
   "metadata": {},
   "outputs": [],
   "source": [
    "import pyrealsense2 as rs\n",
    "import open3d\n",
    "import cv2"
   ]
  },
  {
   "cell_type": "code",
   "execution_count": 7,
   "metadata": {},
   "outputs": [
    {
     "ename": "RuntimeError",
     "evalue": "Couldn't resolve requests",
     "output_type": "error",
     "traceback": [
      "\u001b[1;31m---------------------------------------------------------------------------\u001b[0m",
      "\u001b[1;31mRuntimeError\u001b[0m                              Traceback (most recent call last)",
      "Cell \u001b[1;32mIn [7], line 14\u001b[0m\n\u001b[0;32m     12\u001b[0m aligned_stream \u001b[39m=\u001b[39m rs\u001b[39m.\u001b[39malign(rs\u001b[39m.\u001b[39mstream\u001b[39m.\u001b[39mcolor) \u001b[39m# alignment between color and depth\u001b[39;00m\n\u001b[0;32m     13\u001b[0m \u001b[39m# print(\"[INFO] start streaming...\")\u001b[39;00m\n\u001b[1;32m---> 14\u001b[0m pipeline\u001b[39m.\u001b[39;49mstart(config)\n\u001b[0;32m     16\u001b[0m point_cloud \u001b[39m=\u001b[39m rs\u001b[39m.\u001b[39mpointcloud()\n\u001b[0;32m     18\u001b[0m \u001b[39m# get a stream of images\u001b[39;00m\n",
      "\u001b[1;31mRuntimeError\u001b[0m: Couldn't resolve requests"
     ]
    }
   ],
   "source": [
    "W = 848\n",
    "H = 480\n",
    "\n",
    "# Configure depth and color streams\n",
    "pipeline = rs.pipeline()\n",
    "config = rs.config()\n",
    "\n",
    "config.enable_device('151322066099')\n",
    "config.enable_stream(rs.stream.depth, W, H, rs.format.z16, 30)\n",
    "config.enable_stream(rs.stream.color, W, H, rs.format.bgr8, 30)\n",
    "\n",
    "# print(\"[INFO] start streaming...\")\n",
    "pipeline.start(config)\n",
    "\n",
    "aligned_stream = rs.align(rs.stream.color) # alignment between color and depth\n",
    "point_cloud = rs.pointcloud()\n",
    "\n",
    "# get a stream of images\n",
    "while True:\n",
    "# for i in range(50):\n",
    "    # ----- added from other method\n",
    "    current_pose = fa.get_pose()\n",
    "    frames = pipeline.wait_for_frames()\n",
    "    frames = aligned_stream.process(frames)\n",
    "    color_frame = frames.get_color_frame()\n",
    "    depth_frame = frames.get_depth_frame().as_depth_frame()\n",
    "\n",
    "    points = point_cloud.calculate(depth_frame)\n",
    "    verts = np.asanyarray(points.get_vertices()).view(np.float32).reshape(-1, W, 3)  # xyz\n",
    "   \n",
    "    # Convert images to numpy arrays\n",
    "    depth_image = np.asanyarray(depth_frame.get_data())\n",
    "\n",
    "    # skip empty frames\n",
    "    if not np.any(depth_image):\n",
    "        print(\"no depth\")\n",
    "        # continue\n",
    "\n",
    "    # print(\"\\n[INFO] found a valid depth frame\")\n",
    "    color_image = np.asanyarray(color_frame.get_data())\n",
    "    bw_image = cv2.cvtColor(color_image, cv2.COLOR_BGR2GRAY)\n",
    "\n",
    "    # camera parameters [fx, fy, cx, cy]\n",
    "    cam_param = [realsense_intrinsics.fx, realsense_intrinsics.fy, realsense_intrinsics.cx, realsense_intrinsics.cy]\n",
    "\n",
    "\n",
    "    cv2.imshow(\"Image\", color_image)\n",
    "    k=cv2.waitKey(1)\n",
    "    if(k==27):\n",
    "        # Wait for the next set of frames from the camera\n",
    "        colorized = colorizer.process(frames)\n",
    "\n",
    "# Create save_to_ply object\n",
    "        ply = rs.save_to_ply(\"1.ply\")\n",
    "\n",
    "# Set options to the desired values\n",
    "# In this example we'll generate a textual PLY with normals (mesh is already created by default)\n",
    "        ply.set_option(rs.save_to_ply.option_ply_binary, False)\n",
    "        ply.set_option(rs.save_to_ply.option_ply_normals, True)\n",
    "\n",
    "        print(\"Saving to 1.ply...\")\n",
    "# Apply the processing block to the frameset which contains the depth frame and the texture\n",
    "        ply.process(colorized)\n",
    "        print(\"Done\")\n",
    "\n",
    "        break\n",
    "          \n"
   ]
  }
 ],
 "metadata": {
  "kernelspec": {
   "display_name": "Python 3.8.10 ('venv': venv)",
   "language": "python",
   "name": "python3"
  },
  "language_info": {
   "codemirror_mode": {
    "name": "ipython",
    "version": 3
   },
   "file_extension": ".py",
   "mimetype": "text/x-python",
   "name": "python",
   "nbconvert_exporter": "python",
   "pygments_lexer": "ipython3",
   "version": "3.8.10"
  },
  "orig_nbformat": 4,
  "vscode": {
   "interpreter": {
    "hash": "0cf3c8b874a27384b146d74c4633c2934709cf8f21fef5e4839942182df89ea6"
   }
  }
 },
 "nbformat": 4,
 "nbformat_minor": 2
}
