{
 "cells": [
  {
   "cell_type": "code",
   "execution_count": 1,
   "metadata": {},
   "outputs": [
    {
     "name": "stdout",
     "output_type": "stream",
     "text": [
      "Jupyter environment detected. Enabling Open3D WebVisualizer.\n",
      "[Open3D INFO] WebRTC GUI backend enabled.\n",
      "[Open3D INFO] WebRTCWindowSystem: HTTP handshake server disabled.\n"
     ]
    }
   ],
   "source": [
    "import open3d as o3d\n",
    "import numpy as np"
   ]
  },
  {
   "cell_type": "code",
   "execution_count": 11,
   "metadata": {},
   "outputs": [],
   "source": [
    "def load_point_clouds(voxel_size=0.0):\n",
    "    pcds = []\n",
    "    for i in range(2):\n",
    "        pcd = o3d.io.read_point_cloud(f\"../outputs/out_{i + 1}.ply\")\n",
    "        pcd_down = pcd.voxel_down_sample(voxel_size=voxel_size)\n",
    "        pcds.append(pcd_down)\n",
    "    return pcds"
   ]
  },
  {
   "cell_type": "code",
   "execution_count": 4,
   "metadata": {},
   "outputs": [],
   "source": [
    "def pairwise_registration(source, target, max_correspondence_distance_coarse,\n",
    "                          max_correspondence_distance_fine):\n",
    "    print(\"Apply point-to-plane ICP\")\n",
    "    icp_coarse = o3d.pipelines.registration.registration_icp(\n",
    "        source, target, max_correspondence_distance_coarse, np.identity(4),\n",
    "        o3d.pipelines.registration.TransformationEstimationPointToPlane())\n",
    "    icp_fine = o3d.pipelines.registration.registration_icp(\n",
    "        source, target, max_correspondence_distance_fine,\n",
    "        icp_coarse.transformation,\n",
    "        o3d.pipelines.registration.TransformationEstimationPointToPlane())\n",
    "    transformation_icp = icp_fine.transformation\n",
    "    information_icp = o3d.pipelines.registration.get_information_matrix_from_point_clouds(\n",
    "        source, target, max_correspondence_distance_fine,\n",
    "        icp_fine.transformation)\n",
    "    return transformation_icp, information_icp"
   ]
  },
  {
   "cell_type": "code",
   "execution_count": 5,
   "metadata": {},
   "outputs": [],
   "source": [
    "def full_registration(pcds, max_correspondence_distance_coarse,\n",
    "                      max_correspondence_distance_fine):\n",
    "    pose_graph = o3d.pipelines.registration.PoseGraph()\n",
    "    odometry = np.identity(4)\n",
    "    pose_graph.nodes.append(o3d.pipelines.registration.PoseGraphNode(odometry))\n",
    "    n_pcds = len(pcds)\n",
    "    for source_id in range(n_pcds):\n",
    "        for target_id in range(source_id + 1, n_pcds):\n",
    "            transformation_icp, information_icp = pairwise_registration(\n",
    "                pcds[source_id], pcds[target_id],\n",
    "                max_correspondence_distance_coarse,\n",
    "                max_correspondence_distance_fine)\n",
    "            print(\"Build o3d.pipelines.registration.PoseGraph\")\n",
    "            if target_id == source_id + 1:  # odometry case\n",
    "                odometry = np.dot(transformation_icp, odometry)\n",
    "                pose_graph.nodes.append(\n",
    "                    o3d.pipelines.registration.PoseGraphNode(\n",
    "                        np.linalg.inv(odometry)))\n",
    "                pose_graph.edges.append(\n",
    "                    o3d.pipelines.registration.PoseGraphEdge(source_id,\n",
    "                                                             target_id,\n",
    "                                                             transformation_icp,\n",
    "                                                             information_icp,\n",
    "                                                             uncertain=False))\n",
    "            else:  # loop closure case\n",
    "                pose_graph.edges.append(\n",
    "                    o3d.pipelines.registration.PoseGraphEdge(source_id,\n",
    "                                                             target_id,\n",
    "                                                             transformation_icp,\n",
    "                                                             information_icp,\n",
    "                                                             uncertain=True))\n",
    "    return pose_graph"
   ]
  },
  {
   "cell_type": "code",
   "execution_count": 12,
   "metadata": {},
   "outputs": [
    {
     "name": "stdout",
     "output_type": "stream",
     "text": [
      "[Open3D INFO] Window window_2 created.\n"
     ]
    }
   ],
   "source": [
    "if __name__ == \"__main__\":\n",
    "    voxel_size = 0.02\n",
    "    pcds_down = load_point_clouds(voxel_size)\n",
    "    o3d.visualization.draw(pcds_down)\n",
    "\n",
    "    print(\"Full registration ...\")\n",
    "    max_correspondence_distance_coarse = voxel_size * 15\n",
    "    max_correspondence_distance_fine = voxel_size * 1.5\n",
    "    with o3d.utility.VerbosityContextManager(\n",
    "            o3d.utility.VerbosityLevel.Debug) as cm:\n",
    "        pose_graph = full_registration(pcds_down,\n",
    "                                       max_correspondence_distance_coarse,\n",
    "                                       max_correspondence_distance_fine)\n",
    "\n",
    "    print(\"Optimizing PoseGraph ...\")\n",
    "    option = o3d.pipelines.registration.GlobalOptimizationOption(\n",
    "        max_correspondence_distance=max_correspondence_distance_fine,\n",
    "        edge_prune_threshold=0.25,\n",
    "        reference_node=0)\n",
    "    with o3d.utility.VerbosityContextManager(\n",
    "            o3d.utility.VerbosityLevel.Debug) as cm:\n",
    "        o3d.pipelines.registration.global_optimization(\n",
    "            pose_graph,\n",
    "            o3d.pipelines.registration.GlobalOptimizationLevenbergMarquardt(),\n",
    "            o3d.pipelines.registration.GlobalOptimizationConvergenceCriteria(),\n",
    "            option)\n",
    "\n",
    "    print(\"Transform points and display\")\n",
    "    for point_id in range(len(pcds_down)):\n",
    "        print(pose_graph.nodes[point_id].pose)\n",
    "        pcds_down[point_id].transform(pose_graph.nodes[point_id].pose)\n",
    "    o3d.visualization.draw(pcds_down)\n"
   ]
  },
  {
   "cell_type": "code",
   "execution_count": null,
   "metadata": {},
   "outputs": [],
   "source": []
  }
 ],
 "metadata": {
  "kernelspec": {
   "display_name": "Python 3.8.10 ('venv': venv)",
   "language": "python",
   "name": "python3"
  },
  "language_info": {
   "codemirror_mode": {
    "name": "ipython",
    "version": 3
   },
   "file_extension": ".py",
   "mimetype": "text/x-python",
   "name": "python",
   "nbconvert_exporter": "python",
   "pygments_lexer": "ipython3",
   "version": "3.8.10"
  },
  "orig_nbformat": 4,
  "vscode": {
   "interpreter": {
    "hash": "0cf3c8b874a27384b146d74c4633c2934709cf8f21fef5e4839942182df89ea6"
   }
  }
 },
 "nbformat": 4,
 "nbformat_minor": 2
}
