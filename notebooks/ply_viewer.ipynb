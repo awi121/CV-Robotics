{
 "cells": [
  {
   "cell_type": "code",
   "execution_count": 2,
   "metadata": {},
   "outputs": [
    {
     "name": "stdout",
     "output_type": "stream",
     "text": [
      "Jupyter environment detected. Enabling Open3D WebVisualizer.\n",
      "[Open3D INFO] WebRTC GUI backend enabled.\n",
      "[Open3D INFO] WebRTCWindowSystem: HTTP handshake server disabled.\n"
     ]
    }
   ],
   "source": [
    "import open3d\n",
    "import copy\n",
    "import numpy as np"
   ]
  },
  {
   "cell_type": "code",
   "execution_count": 5,
   "metadata": {},
   "outputs": [],
   "source": [
    "pcd1 = open3d.io.read_point_cloud(\"../outputs/out_1.ply\")\n",
    "pcd2 = open3d.io.read_point_cloud(\"../outputs/out_2.ply\")\n",
    "c1 = open3d.io.read_point_cloud(\"../outputs/point_clouds_12_11_2022/C1/1.ply\")\n",
    "c2 = open3d.io.read_point_cloud(\"../outputs/point_clouds_12_11_2022/C2/1.ply\")\n",
    "# dataset_output = open3d.io.read_point_cloud(\"../dataset/scene/integrated.ply\")\n",
    "# open3d.visualization.draw_geometries([dataset_output])"
   ]
  },
  {
   "cell_type": "code",
   "execution_count": 6,
   "metadata": {},
   "outputs": [],
   "source": [
    "def draw_registration_result(source, target, transformation):\n",
    "    source_temp = copy.deepcopy(source)\n",
    "    target_temp = copy.deepcopy(target)\n",
    "    source_temp.paint_uniform_color([1, 0.706, 0])\n",
    "    target_temp.paint_uniform_color([0, 0.651, 0.929])\n",
    "    source_temp.transform(transformation)\n",
    "    open3d.visualization.draw_geometries([source_temp, target_temp],\n",
    "                                      zoom=0.4459,\n",
    "                                      front=[0.9288, -0.2951, -0.2242],\n",
    "                                      lookat=[1.6784, 2.0612, 1.4451],\n",
    "                                      up=[-0.3402, -0.9189, -0.1996])"
   ]
  },
  {
   "cell_type": "code",
   "execution_count": 7,
   "metadata": {},
   "outputs": [
    {
     "name": "stdout",
     "output_type": "stream",
     "text": [
      "Apply point-to-point ICP\n",
      "RegistrationResult with fitness=9.999718e-01, inlier_rmse=9.526266e-02, and correspondence_set size of 212915\n",
      "Access transformation to get result.\n",
      "Transformation is:\n",
      "[[-0.65363638  0.75121625 -0.09550255  0.59762931]\n",
      " [-0.43461134 -0.26912962  0.8599067   0.9798122 ]\n",
      " [ 0.61919824  0.6028917   0.50193499 -0.94282076]\n",
      " [ 0.          0.          0.          1.        ]]\n"
     ]
    }
   ],
   "source": [
    "print(\"Apply point-to-point ICP\")\n",
    "source = c1\n",
    "target = c2\n",
    "threshold = 0.9\n",
    "trans_init = np.asarray(\n",
    "[[ 0.862,  0.011, -0.507,  0.5  ],\n",
    " [-0.139,  0.967, -0.215,  0.7  ],\n",
    " [ 0.487,  0.255,  0.835, -1.4  ],\n",
    " [ 0.   ,  0.   ,  0.   ,  1.   ]]\n",
    ")\n",
    "# trans_init = np.asarray([[0.862, 0.011, -0.507, 0.5],\n",
    "#                          [-0.139, 0.967, -0.215, 0.7],\n",
    "#                          [0.487, 0.255, 0.835, -1.4], [0.0, 0.0, 0.0, 1.0]])\n",
    "reg_p2p = open3d.pipelines.registration.registration_icp(\n",
    "    source, target, threshold, trans_init,\n",
    "    open3d.pipelines.registration.TransformationEstimationPointToPoint())\n",
    "print(reg_p2p)\n",
    "print(\"Transformation is:\")\n",
    "print(reg_p2p.transformation)\n",
    "draw_registration_result(source, target, reg_p2p.transformation)\n",
    "\n"
   ]
  },
  {
   "cell_type": "code",
   "execution_count": 6,
   "metadata": {},
   "outputs": [
    {
     "name": "stdout",
     "output_type": "stream",
     "text": [
      "Apply point-to-plane ICP\n"
     ]
    },
    {
     "ename": "RuntimeError",
     "evalue": "[Open3D Error] (class open3d::pipelines::registration::RegistrationResult __cdecl open3d::pipelines::registration::RegistrationICP(const class open3d::geometry::PointCloud &,const class open3d::geometry::PointCloud &,double,const class Eigen::Matrix<double,4,4,0,4,4> &,const class open3d::pipelines::registration::TransformationEstimation &,const class open3d::pipelines::registration::ICPConvergenceCriteria &)) D:\\a\\Open3D\\Open3D\\cpp\\open3d\\pipelines\\registration\\Registration.cpp:147: TransformationEstimationPointToPlane and TransformationEstimationColoredICP require pre-computed normal vectors for target PointCloud.\n",
     "output_type": "error",
     "traceback": [
      "\u001b[1;31m---------------------------------------------------------------------------\u001b[0m",
      "\u001b[1;31mRuntimeError\u001b[0m                              Traceback (most recent call last)",
      "Cell \u001b[1;32mIn [6], line 2\u001b[0m\n\u001b[0;32m      1\u001b[0m \u001b[39mprint\u001b[39m(\u001b[39m\"\u001b[39m\u001b[39mApply point-to-plane ICP\u001b[39m\u001b[39m\"\u001b[39m)\n\u001b[1;32m----> 2\u001b[0m reg_p2l \u001b[39m=\u001b[39m open3d\u001b[39m.\u001b[39;49mpipelines\u001b[39m.\u001b[39;49mregistration\u001b[39m.\u001b[39;49mregistration_icp(\n\u001b[0;32m      3\u001b[0m     source, target, threshold, trans_init,\n\u001b[0;32m      4\u001b[0m     open3d\u001b[39m.\u001b[39;49mpipelines\u001b[39m.\u001b[39;49mregistration\u001b[39m.\u001b[39;49mTransformationEstimationPointToPlane())\n\u001b[0;32m      5\u001b[0m \u001b[39mprint\u001b[39m(reg_p2l)\n\u001b[0;32m      6\u001b[0m \u001b[39mprint\u001b[39m(\u001b[39m\"\u001b[39m\u001b[39mTransformation is:\u001b[39m\u001b[39m\"\u001b[39m)\n",
      "\u001b[1;31mRuntimeError\u001b[0m: [Open3D Error] (class open3d::pipelines::registration::RegistrationResult __cdecl open3d::pipelines::registration::RegistrationICP(const class open3d::geometry::PointCloud &,const class open3d::geometry::PointCloud &,double,const class Eigen::Matrix<double,4,4,0,4,4> &,const class open3d::pipelines::registration::TransformationEstimation &,const class open3d::pipelines::registration::ICPConvergenceCriteria &)) D:\\a\\Open3D\\Open3D\\cpp\\open3d\\pipelines\\registration\\Registration.cpp:147: TransformationEstimationPointToPlane and TransformationEstimationColoredICP require pre-computed normal vectors for target PointCloud.\n"
     ]
    }
   ],
   "source": [
    "print(\"Apply point-to-plane ICP\")\n",
    "reg_p2l = open3d.pipelines.registration.registration_icp(\n",
    "    source, target, threshold, trans_init,\n",
    "    open3d.pipelines.registration.TransformationEstimationPointToPlane())\n",
    "print(reg_p2l)\n",
    "print(\"Transformation is:\")\n",
    "print(reg_p2l.transformation)\n",
    "draw_registration_result(source, target, reg_p2l.transformation)\n",
    "\n"
   ]
  },
  {
   "cell_type": "code",
   "execution_count": null,
   "metadata": {},
   "outputs": [],
   "source": []
  },
  {
   "cell_type": "code",
   "execution_count": null,
   "metadata": {},
   "outputs": [],
   "source": []
  }
 ],
 "metadata": {
  "kernelspec": {
   "display_name": "Python 3.8.15 ('venv': venv)",
   "language": "python",
   "name": "python3"
  },
  "language_info": {
   "codemirror_mode": {
    "name": "ipython",
    "version": 3
   },
   "file_extension": ".py",
   "mimetype": "text/x-python",
   "name": "python",
   "nbconvert_exporter": "python",
   "pygments_lexer": "ipython3",
   "version": "3.8.15"
  },
  "orig_nbformat": 4,
  "vscode": {
   "interpreter": {
    "hash": "f0624b4d934aa8f03ac867acc4827c84f038a04b622b72afd6f5f86c53549e62"
   }
  }
 },
 "nbformat": 4,
 "nbformat_minor": 2
}
